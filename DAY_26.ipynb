{
 "cells": [
  {
   "cell_type": "markdown",
   "metadata": {},
   "source": [
    "## Day 26: Nested Logic\n",
    "\n",
    "**Task:** Your local library needs your help! Given the expected and actual return dates for a library book, create a program that calculates the fine (if any). The fee structure is as follows:\n",
    "\n",
    "- If the book is returned on or before the expected return date, no fine will be charged 0\n",
    "- If the book is returned after the expected return day but still within the same calendar month and year as the expected return date, fine = 15 X number of days late\n",
    "- If the book is returned after the expected return month but still within the same calendar year as the expected return date, the fine = 500 X number of months late\n",
    "- If the book is returned after the calendar year in which it was expected, there is a fixed fine of 10000."
   ]
  },
  {
   "cell_type": "code",
   "execution_count": null,
   "metadata": {},
   "outputs": [],
   "source": [
    "from datetime import date\n",
    "\n",
    "A = list(map(int, input().rstrip().split()))\n",
    "B = list(map(int, input().rstrip().split()))\n",
    "\n",
    "#Creating date objects\n",
    "d1 = date(A[2], A[1], A[0])\n",
    "d2 = date(B[2], B[1], B[0])\n",
    "\n",
    "if d1 <= d2:\n",
    "    fine = 0\n",
    "elif d1.month == d2.month and d1.year == d2.year:\n",
    "    fine = 15 * int(abs((d2 - d1).days))\n",
    "elif d1.year == d2.year:\n",
    "    diff = d1.month - d2.month\n",
    "    fine = 500 * int(abs(diff))\n",
    "else:\n",
    "    fine = 10000 \n",
    "\n",
    "print(fine)\n"
   ]
  }
 ],
 "metadata": {
  "kernelspec": {
   "display_name": "Python 3",
   "language": "python",
   "name": "python3"
  },
  "language_info": {
   "codemirror_mode": {
    "name": "ipython",
    "version": 3
   },
   "file_extension": ".py",
   "mimetype": "text/x-python",
   "name": "python",
   "nbconvert_exporter": "python",
   "pygments_lexer": "ipython3",
   "version": "3.7.4"
  }
 },
 "nbformat": 4,
 "nbformat_minor": 2
}
