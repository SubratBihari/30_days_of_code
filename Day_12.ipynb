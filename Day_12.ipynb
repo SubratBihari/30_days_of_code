{
 "cells": [
  {
   "cell_type": "markdown",
   "metadata": {},
   "source": [
    "## Day 12: Linked List\n",
    "\n",
    "**Task** Complete the insert function in your editor so that it creates a new Node (pass data as the Node constructor argument) and inserts it at the tail of the linked list referenced by the head parameter. Once the new node is added, return the reference to the head node"
   ]
  },
  {
   "cell_type": "code",
   "execution_count": null,
   "metadata": {},
   "outputs": [],
   "source": [
    "class Node:\n",
    "    def __init__(self,data):\n",
    "        self.data = data\n",
    "        self.next = None\n",
    "        \n",
    "        \n",
    "class Solution: \n",
    "    \n",
    "    def display(self,head):\n",
    "        current = head\n",
    "        while current:\n",
    "            print(current.data,end=' ')\n",
    "            current = current.next\n",
    "\n",
    "            \n",
    "    def insert(self,head,data):\n",
    "       \n",
    "        if head is None:\n",
    "            head = Node(data)\n",
    "        else:\n",
    "            currentNode = head    \n",
    "            while currentNode.next:\n",
    "                currentNode = currentNode.next\n",
    "            currentNode.next = Node(data)\n",
    "            \n",
    "        return head\n",
    "\n",
    "\n",
    "mylist= Solution()\n",
    "T=int(input())\n",
    "head=None\n",
    "for i in range(T):\n",
    "    data=int(input())\n",
    "    head=mylist.insert(head,data)    \n",
    "mylist.display(head)"
   ]
  },
  {
   "cell_type": "markdown",
   "metadata": {},
   "source": [
    "By: Wendy Navarrete\n",
    "\n",
    "02/17/2020"
   ]
  },
  {
   "cell_type": "code",
   "execution_count": null,
   "metadata": {},
   "outputs": [],
   "source": []
  }
 ],
 "metadata": {
  "kernelspec": {
   "display_name": "Python 3",
   "language": "python",
   "name": "python3"
  },
  "language_info": {
   "codemirror_mode": {
    "name": "ipython",
    "version": 3
   },
   "file_extension": ".py",
   "mimetype": "text/x-python",
   "name": "python",
   "nbconvert_exporter": "python",
   "pygments_lexer": "ipython3",
   "version": "3.7.4"
  }
 },
 "nbformat": 4,
 "nbformat_minor": 2
}
