{
 "cells": [
  {
   "cell_type": "markdown",
   "metadata": {},
   "source": [
    "## Day 28 RegEx and Patterns\n",
    "\n",
    "**Task:** Emails, which has the attributes First Name and Email ID. Given n rows of data with name and their Emails, print an alphabetically-ordered list of people whose email address ends in @gmail.com."
   ]
  },
  {
   "cell_type": "code",
   "execution_count": 1,
   "metadata": {},
   "outputs": [
    {
     "name": "stdout",
     "output_type": "stream",
     "text": [
      "4\n",
      "alice alice@alicegmail.com\n",
      "alice gmail.alice@gmail.com\n",
      "julia julia@julia.me\n",
      "julia djulia@gmail.com\n",
      "alice\n",
      "julia\n"
     ]
    }
   ],
   "source": [
    "\n",
    "import re\n",
    "\n",
    "if __name__ == '__main__':\n",
    "    N = int(input())\n",
    "    l = []\n",
    "\n",
    "    for N_itr in range(N):\n",
    "        firstNameEmailID = input().split()\n",
    "        firstName = firstNameEmailID[0]\n",
    "        emailID = firstNameEmailID[1]\n",
    "        m = re.search(\"^[a-zA-Z.]+@gmail\\.com$\",emailID)\n",
    "        if m:\n",
    "            l.append(firstName)\n",
    "\n",
    "    #Ordering alphabetically \n",
    "    l = sorted(l)\n",
    "    for name in l:\n",
    "        print(name)\n"
   ]
  },
  {
   "cell_type": "markdown",
   "metadata": {},
   "source": [
    "By: Wendy Navarrete\n",
    "\n",
    "3/18/2020"
   ]
  }
 ],
 "metadata": {
  "kernelspec": {
   "display_name": "Python 3",
   "language": "python",
   "name": "python3"
  },
  "language_info": {
   "codemirror_mode": {
    "name": "ipython",
    "version": 3
   },
   "file_extension": ".py",
   "mimetype": "text/x-python",
   "name": "python",
   "nbconvert_exporter": "python",
   "pygments_lexer": "ipython3",
   "version": "3.7.4"
  }
 },
 "nbformat": 4,
 "nbformat_minor": 2
}
