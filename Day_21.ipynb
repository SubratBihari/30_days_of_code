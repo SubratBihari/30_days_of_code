{
 "cells": [
  {
   "cell_type": "markdown",
   "metadata": {},
   "source": [
    "# Day 21: Generics\n",
    "\n",
    "**Task:** Write a single generic function named printArray; this function must take an array of generic elements as a parameter (the exception to this is C++, which takes a vector).\n",
    "\n",
    "Note: Not all languages support this construct, that's why this challenge is coded in Swift."
   ]
  },
  {
   "cell_type": "raw",
   "metadata": {},
   "source": [
    "\n",
    "\n",
    "struct Printer<T>{\n",
    "    \n",
    "/**\n",
    "*    Name: printArray\n",
    "*    Print each element of the generic array on a new line. Do not return anything.\n",
    "*    @param A generic array\n",
    "**/\n",
    "\n",
    "    func printArray<T>(array: [T]){\n",
    "        for value in array {\n",
    "            print(\"\\(value)\")\n",
    "        }\n",
    "    }\n",
    "    \n",
    "}\n",
    "\n"
   ]
  },
  {
   "cell_type": "markdown",
   "metadata": {},
   "source": [
    "By: Wendy Navarrete\n",
    "\n",
    "03/04/2020"
   ]
  },
  {
   "cell_type": "code",
   "execution_count": null,
   "metadata": {},
   "outputs": [],
   "source": []
  }
 ],
 "metadata": {
  "kernelspec": {
   "display_name": "Python 3",
   "language": "python",
   "name": "python3"
  },
  "language_info": {
   "codemirror_mode": {
    "name": "ipython",
    "version": 3
   },
   "file_extension": ".py",
   "mimetype": "text/x-python",
   "name": "python",
   "nbconvert_exporter": "python",
   "pygments_lexer": "ipython3",
   "version": "3.7.4"
  }
 },
 "nbformat": 4,
 "nbformat_minor": 2
}
