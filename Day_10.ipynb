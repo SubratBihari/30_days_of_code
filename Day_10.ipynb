{
 "cells": [
  {
   "cell_type": "markdown",
   "metadata": {},
   "source": [
    "## Day 10: Binary Numbers\n",
    "\n",
    "**Task:** Given a base-10 integer, n, convert it to binary (base-2). Then find and print the base-10 integer denoting the maximum number of consecutive 1's in n's binary representation."
   ]
  },
  {
   "cell_type": "code",
   "execution_count": null,
   "metadata": {},
   "outputs": [],
   "source": [
    "#!/bin/python3\n",
    "\n",
    "import math\n",
    "import os\n",
    "import random\n",
    "import re\n",
    "import sys\n",
    "\n",
    "\n",
    "if __name__ == '__main__':\n",
    "    n = int(input())\n",
    "\n",
    "def converttoBinary(x):\n",
    "    \n",
    "    '''\n",
    "    Args: A base-10 integer\n",
    "    Function: Convert n into a binary number\n",
    "    '''\n",
    "    \n",
    "    if x // 2 == 1:\n",
    "        binaryNumber.append(1)\n",
    "    else:\n",
    "        converttoBinary(x//2)\n",
    "    binaryNumber.append(x%2)\n",
    "\n",
    "\n",
    "binaryNumber = []\n",
    "converttoBinary(n)\n",
    "\n",
    "\n",
    "max_one = 1\n",
    "ind = 1\n",
    "max_temp = 1\n",
    "\n",
    "while ind <  len(binaryNumber):\n",
    "\n",
    "    if binaryNumber[ind-1] == 1 and binaryNumber[ind] == 1:\n",
    "        max_temp += 1\n",
    "    elif binaryNumber[ind] == 0:\n",
    "        max_temp = 1   \n",
    "    max_one = max(max_one,max_temp)  \n",
    "    ind += 1\n",
    "    \n",
    "print(max_one)\n"
   ]
  },
  {
   "cell_type": "markdown",
   "metadata": {},
   "source": [
    "By: Wendy Navarrete\n",
    "\n",
    "02/15/2020"
   ]
  },
  {
   "cell_type": "code",
   "execution_count": null,
   "metadata": {},
   "outputs": [],
   "source": []
  }
 ],
 "metadata": {
  "kernelspec": {
   "display_name": "Python 3",
   "language": "python",
   "name": "python3"
  },
  "language_info": {
   "codemirror_mode": {
    "name": "ipython",
    "version": 3
   },
   "file_extension": ".py",
   "mimetype": "text/x-python",
   "name": "python",
   "nbconvert_exporter": "python",
   "pygments_lexer": "ipython3",
   "version": "3.7.4"
  }
 },
 "nbformat": 4,
 "nbformat_minor": 2
}
