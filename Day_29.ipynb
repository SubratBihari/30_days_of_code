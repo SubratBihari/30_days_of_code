{
 "cells": [
  {
   "cell_type": "markdown",
   "metadata": {},
   "source": [
    "## Day 29: Bitwise AND\n",
    "\n",
    "\n",
    "**Task:** \n",
    "Given set S = {1,2,3,4...N}. Find two integers, A and B (where A< B), from set S such that the value of A&B is the maximum possible and also less than a given integer,K. In this case, & represents the bitwise AND operator."
   ]
  },
  {
   "cell_type": "code",
   "execution_count": 1,
   "metadata": {},
   "outputs": [
    {
     "name": "stdout",
     "output_type": "stream",
     "text": [
      "3\n",
      "5 2\n",
      "Result: 1\n",
      "2 2\n",
      "Result: 0\n",
      "789 340\n",
      "Result: 339\n"
     ]
    }
   ],
   "source": [
    "if __name__ == '__main__':\n",
    "    t = int(input())\n",
    "\n",
    "    for t_itr in range(t):\n",
    "        nk = input().split()\n",
    "\n",
    "        n = int(nk[0])\n",
    "        k = int(nk[1])\n",
    "\n",
    "        x = n\n",
    "        result = maxResult = 0\n",
    "\n",
    "        for x in range(x,1,-1):\n",
    "            y = x - 1\n",
    "            for y in range(y,1,-1):\n",
    "                result = x & y\n",
    "                if result == k-1:\n",
    "                    maxResult = result\n",
    "                    break\n",
    "\n",
    "                if (result < k) & (result > maxResult):\n",
    "                    maxResult = result\n",
    "                        \n",
    "            if maxResult == k-1:\n",
    "                break\n",
    "                \n",
    "        print(\"Result: {}\".format(maxResult))"
   ]
  },
  {
   "cell_type": "markdown",
   "metadata": {},
   "source": [
    "By: Wendy Navarrete\n",
    "\n",
    "03/19/2020"
   ]
  }
 ],
 "metadata": {
  "kernelspec": {
   "display_name": "Python 3",
   "language": "python",
   "name": "python3"
  },
  "language_info": {
   "codemirror_mode": {
    "name": "ipython",
    "version": 3
   },
   "file_extension": ".py",
   "mimetype": "text/x-python",
   "name": "python",
   "nbconvert_exporter": "python",
   "pygments_lexer": "ipython3",
   "version": "3.7.4"
  }
 },
 "nbformat": 4,
 "nbformat_minor": 2
}
