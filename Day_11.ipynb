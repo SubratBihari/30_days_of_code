{
 "cells": [
  {
   "cell_type": "markdown",
   "metadata": {},
   "source": [
    "## Day 11: 2D Arrays\n",
    "\n",
    "**Task**: Calculate the hourglass sum for every hourglass in array A, then print the maximum hourglass sum.\n"
   ]
  },
  {
   "cell_type": "code",
   "execution_count": null,
   "metadata": {},
   "outputs": [],
   "source": [
    "#!/bin/python3\n",
    "\n",
    "import math\n",
    "import os\n",
    "import random\n",
    "import re\n",
    "import sys\n",
    "\n",
    "\n",
    "def gethourglassSum(arr,r,c):\n",
    "    \n",
    "    '''\n",
    "    Args: Array,hourglass initial positions (row,column)\n",
    "    Function: Calculate the sum of all elements of the hourglass\n",
    "    '''\n",
    "    \n",
    "    total = arr[r][c] + arr[r][c+1] + arr[r][c+2] + arr[r+1][c+1] + arr[r+2][c] + arr[r+2][c+1] + arr[r+2][c+2]\n",
    "    return total\n",
    "\n",
    "\n",
    "\n",
    "if __name__ == '__main__':\n",
    "    A = []\n",
    "\n",
    "    for _ in range(6):\n",
    "        A.append(list(map(int, input().rstrip().split())))\n",
    "\n",
    "\n",
    "l = len(A)\n",
    "v = 0\n",
    "h = 0\n",
    "currentS = None\n",
    "maxS = None\n",
    "\n",
    "for row in A:  \n",
    "    v=0\n",
    "    for col in row:\n",
    "        if h+2 < l:\n",
    "            if v+2 <l:\n",
    "                currentS = gethourglassSum(A,h,v)\n",
    "                if maxS is None:\n",
    "                    maxS = currentS\n",
    "                maxS = max(currentS, maxS)\n",
    "                v+=1\n",
    "            else:\n",
    "                break            \n",
    "        else:\n",
    "            break\n",
    "    h+=1\n",
    "\n",
    "\n",
    "\n",
    "print(maxS)"
   ]
  },
  {
   "cell_type": "markdown",
   "metadata": {},
   "source": [
    "By: Wendy Navarrete\n",
    "\n",
    "02/17/2020"
   ]
  },
  {
   "cell_type": "code",
   "execution_count": null,
   "metadata": {},
   "outputs": [],
   "source": []
  }
 ],
 "metadata": {
  "kernelspec": {
   "display_name": "Python 3",
   "language": "python",
   "name": "python3"
  },
  "language_info": {
   "codemirror_mode": {
    "name": "ipython",
    "version": 3
   },
   "file_extension": ".py",
   "mimetype": "text/x-python",
   "name": "python",
   "nbconvert_exporter": "python",
   "pygments_lexer": "ipython3",
   "version": "3.7.4"
  }
 },
 "nbformat": 4,
 "nbformat_minor": 2
}
