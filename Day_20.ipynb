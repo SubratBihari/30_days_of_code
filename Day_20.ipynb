{
 "cells": [
  {
   "cell_type": "markdown",
   "metadata": {},
   "source": [
    "# Day 20: Sorting\n",
    "\n",
    "**Taks:** Given an array, a, of size n distinct elements, sort the array in ascending order using the Bubble Sort algorithm above. Once sorted, print the following 3 lines:\n",
    "\n",
    "1. Array is sorted in numSwaps swaps, where numSwaps is the number of swaps that took place.\n",
    "2. First Element: firstElement, where firstElement is the first element in the sorted array.\n",
    "3. Last Element: lastElement, where lastElement is the last element in the sorted array."
   ]
  },
  {
   "cell_type": "code",
   "execution_count": 7,
   "metadata": {},
   "outputs": [
    {
     "name": "stdout",
     "output_type": "stream",
     "text": [
      "6\n",
      "20 3 5 19 8 4\n",
      "Array is sorted in 9 swaps.\n",
      "First Element: 3\n",
      "Last Element: 20\n"
     ]
    }
   ],
   "source": [
    "n = int(input().strip())\n",
    "a = list(map(int, input().strip().split(' ')))\n",
    "\n",
    "\n",
    "i = 0 \n",
    "j = 0\n",
    "numberOfSwaps = 0\n",
    "\n",
    "for i in range(n):\n",
    "    for j in range(n-1):\n",
    "        if(a[j] > a[j+1]):\n",
    "            temp = a[j]\n",
    "            a[j] = a[j+1]\n",
    "            a[j+1] = temp\n",
    "            numberOfSwaps += 1\n",
    "\n",
    "print(\"Array is sorted in {} swaps.\".format(numberOfSwaps))\n",
    "print(\"First Element: {}\".format(a[0]))\n",
    "print(\"Last Element: {}\".format(a[-1]))"
   ]
  },
  {
   "cell_type": "markdown",
   "metadata": {},
   "source": [
    "By: Wendy Navarrete\n",
    "\n",
    "03/04/2020"
   ]
  },
  {
   "cell_type": "code",
   "execution_count": null,
   "metadata": {},
   "outputs": [],
   "source": []
  }
 ],
 "metadata": {
  "kernelspec": {
   "display_name": "Python 3",
   "language": "python",
   "name": "python3"
  },
  "language_info": {
   "codemirror_mode": {
    "name": "ipython",
    "version": 3
   },
   "file_extension": ".py",
   "mimetype": "text/x-python",
   "name": "python",
   "nbconvert_exporter": "python",
   "pygments_lexer": "ipython3",
   "version": "3.7.4"
  }
 },
 "nbformat": 4,
 "nbformat_minor": 2
}
