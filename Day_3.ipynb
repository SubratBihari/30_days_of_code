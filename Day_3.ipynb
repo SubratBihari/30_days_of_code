{
 "cells": [
  {
   "cell_type": "markdown",
   "metadata": {},
   "source": [
    "## Day 3:  Intro to Conditional Statements\n",
    "\n",
    "**Task:** \n",
    "\n",
    "Given an integer,n , perform the following conditional actions:\n",
    "\n",
    "- If n is odd, print Weird\n",
    "- If n is even and in the inclusive range of 2 to 5, print Not Weird\n",
    "- If n is even and in the inclusive range of 6 to 20, print Weird\n",
    "- If n is even and greater than 20, print Not Weird\n",
    "\n",
    "Complete the stub code provided in your editor to print whether or not n is weird."
   ]
  },
  {
   "cell_type": "code",
   "execution_count": 1,
   "metadata": {},
   "outputs": [
    {
     "name": "stdout",
     "output_type": "stream",
     "text": [
      "13\n",
      "Weird\n"
     ]
    }
   ],
   "source": [
    "#!/bin/python3\n",
    "\n",
    "\n",
    "if __name__ == '__main__':\n",
    "    N = int(input())\n",
    "\n",
    "    if N % 2 != 0:\n",
    "        print('Weird')\n",
    "    elif 2 <= N < 5:\n",
    "        print('Not Weird')\n",
    "    elif 6 <= N <= 20:\n",
    "        print('Weird')\n",
    "    elif N > 20 :\n",
    "        print('Not Weird')\n"
   ]
  },
  {
   "cell_type": "code",
   "execution_count": null,
   "metadata": {},
   "outputs": [],
   "source": []
  }
 ],
 "metadata": {
  "kernelspec": {
   "display_name": "Python 3",
   "language": "python",
   "name": "python3"
  },
  "language_info": {
   "codemirror_mode": {
    "name": "ipython",
    "version": 3
   },
   "file_extension": ".py",
   "mimetype": "text/x-python",
   "name": "python",
   "nbconvert_exporter": "python",
   "pygments_lexer": "ipython3",
   "version": "3.7.4"
  }
 },
 "nbformat": 4,
 "nbformat_minor": 2
}
