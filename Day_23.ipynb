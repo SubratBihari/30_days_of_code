{
 "cells": [
  {
   "cell_type": "markdown",
   "metadata": {},
   "source": [
    "# Day 23: BST Level-Order Traversal\n",
    "\n",
    "**Task:** A level-order traversal, also known as a breadth-first search, visits each level of a tree's nodes from left to right, top to bottom. You are given a pointer, root, pointing to the root of a binary search tree. Complete the levelOrder function provided in your editor so that it prints the level-order traversal of the binary search tree."
   ]
  },
  {
   "cell_type": "code",
   "execution_count": null,
   "metadata": {},
   "outputs": [],
   "source": [
    "import sys\n",
    "\n",
    "class Node:\n",
    "    def __init__(self,data):\n",
    "        self.right=self.left=None\n",
    "        self.data = data\n",
    "class Solution:\n",
    "    def insert(self,root,data):\n",
    "        if root==None:\n",
    "            return Node(data)\n",
    "        else:\n",
    "            if data<=root.data:\n",
    "                cur=self.insert(root.left,data)\n",
    "                root.left=cur\n",
    "            else:\n",
    "                cur=self.insert(root.right,data)\n",
    "                root.right=cur\n",
    "        return root\n",
    "\n",
    "    def levelOrder(self,root):\n",
    "        queue = [ root ]\n",
    "        for r in queue:   \n",
    "            if r:\n",
    "                print('{} '.format(r.data), end='')\n",
    "                queue.append(r.left)\n",
    "                queue.append(r.right) \n",
    "\n",
    "T=int(input())\n",
    "myTree=Solution()\n",
    "root=None\n",
    "for i in range(T):\n",
    "    data=int(input())\n",
    "    root=myTree.insert(root,data)\n",
    "myTree.levelOrder(root)\n"
   ]
  },
  {
   "cell_type": "markdown",
   "metadata": {},
   "source": [
    "By: Wendy Navarrete\n",
    "\n",
    "03/04/2020"
   ]
  },
  {
   "cell_type": "code",
   "execution_count": null,
   "metadata": {},
   "outputs": [],
   "source": []
  }
 ],
 "metadata": {
  "kernelspec": {
   "display_name": "Python 3",
   "language": "python",
   "name": "python3"
  },
  "language_info": {
   "codemirror_mode": {
    "name": "ipython",
    "version": 3
   },
   "file_extension": ".py",
   "mimetype": "text/x-python",
   "name": "python",
   "nbconvert_exporter": "python",
   "pygments_lexer": "ipython3",
   "version": "3.7.4"
  }
 },
 "nbformat": 4,
 "nbformat_minor": 2
}
