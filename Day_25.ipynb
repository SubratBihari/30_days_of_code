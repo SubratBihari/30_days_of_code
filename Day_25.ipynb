{
 "cells": [
  {
   "cell_type": "markdown",
   "metadata": {},
   "source": [
    "## Day 25: Running Time and Complexity\n",
    "\n",
    "**Task:**  A prime is a natural number greater than 1 that has no positive divisors other than 1 and itself. Given a number, n , determine and print whether it's \"Prime\" or \"Not prime\"."
   ]
  },
  {
   "cell_type": "code",
   "execution_count": 2,
   "metadata": {},
   "outputs": [
    {
     "name": "stdout",
     "output_type": "stream",
     "text": [
      "4\n",
      "1\n",
      "Not prime\n",
      "9\n",
      "Not prime\n",
      "13\n",
      "Prime\n",
      "261\n",
      "Not prime\n"
     ]
    }
   ],
   "source": [
    "# import the math module  \n",
    "import math\n",
    "\n",
    "n = int(input())\n",
    "for x in range(n):\n",
    "    number = int(input())\n",
    "    if number == 1 or (number > 2 and number % 2 == 0):\n",
    "        print(\"Not prime\")\n",
    "    else:\n",
    "        max_n = int(math.sqrt(number))\n",
    "        result = \"Prime\"\n",
    "        for i in range(2,max_n+1):\n",
    "            if number % i == 0:\n",
    "                result = \"Not prime\"\n",
    "                break\n",
    "        print(result)\n"
   ]
  },
  {
   "cell_type": "markdown",
   "metadata": {},
   "source": [
    "By: Wendy Navarrete\n",
    "\n",
    "03/17/2020"
   ]
  },
  {
   "cell_type": "code",
   "execution_count": null,
   "metadata": {},
   "outputs": [],
   "source": []
  }
 ],
 "metadata": {
  "kernelspec": {
   "display_name": "Python 3",
   "language": "python",
   "name": "python3"
  },
  "language_info": {
   "codemirror_mode": {
    "name": "ipython",
    "version": 3
   },
   "file_extension": ".py",
   "mimetype": "text/x-python",
   "name": "python",
   "nbconvert_exporter": "python",
   "pygments_lexer": "ipython3",
   "version": "3.7.4"
  }
 },
 "nbformat": 4,
 "nbformat_minor": 2
}
